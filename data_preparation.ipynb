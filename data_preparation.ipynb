{
 "cells": [
  {
   "cell_type": "code",
   "execution_count": 10,
   "metadata": {},
   "outputs": [],
   "source": [
    "import os\n",
    "import numpy as np\n",
    "import trimesh\n",
    "from scipy import ndimage"
   ]
  },
  {
   "cell_type": "code",
   "execution_count": 11,
   "metadata": {},
   "outputs": [],
   "source": [
    "dataset_path = r\"C:\\Users\\abdel\\Desktop\\111\\data\"\n",
    "categories = ['Canine', 'Deuxieme_molaire', 'Deuxieme_premolaire', 'Incisive_centrale', \n",
    "              'Incisive_laterale', 'Premiere_molaire', 'Premiere_premolaire']\n"
   ]
  },
  {
   "cell_type": "code",
   "execution_count": 12,
   "metadata": {},
   "outputs": [],
   "source": [
    "def process_obj(path, target_size=(64, 64, 64)):\n",
    "    mesh = trimesh.load_mesh(path)\n",
    "    vertices = np.array(mesh.vertices)\n",
    "    vertices = (vertices - vertices.min()) / (vertices.max() - vertices.min())\n",
    "    volume = np.histogramdd(vertices, bins=target_size)[0]\n",
    "    return volume"
   ]
  },
  {
   "cell_type": "code",
   "execution_count": 13,
   "metadata": {},
   "outputs": [],
   "source": [
    "X, y = [], []\n",
    "for i, category in enumerate(categories):\n",
    "    category_path = os.path.join(dataset_path, category)\n",
    "    for filename in os.listdir(category_path):\n",
    "        if filename.endswith('.obj'):\n",
    "            file_path = os.path.join(category_path, filename)\n",
    "            try:\n",
    "                processed = process_obj(file_path)\n",
    "                X.append(processed)\n",
    "                y.append(i)\n",
    "            except Exception as e:\n",
    "                print(f\"Error processing {file_path}: {str(e)}\")\n"
   ]
  },
  {
   "cell_type": "code",
   "execution_count": 14,
   "metadata": {},
   "outputs": [],
   "source": [
    "X = np.array(X)\n",
    "y = np.array(y)"
   ]
  },
  {
   "cell_type": "code",
   "execution_count": 15,
   "metadata": {},
   "outputs": [],
   "source": [
    "np.save('X_data.npy', X)\n",
    "np.save('y_data.npy', y)"
   ]
  }
 ],
 "metadata": {
  "kernelspec": {
   "display_name": "base",
   "language": "python",
   "name": "python3"
  },
  "language_info": {
   "codemirror_mode": {
    "name": "ipython",
    "version": 3
   },
   "file_extension": ".py",
   "mimetype": "text/x-python",
   "name": "python",
   "nbconvert_exporter": "python",
   "pygments_lexer": "ipython3",
   "version": "3.12.3"
  }
 },
 "nbformat": 4,
 "nbformat_minor": 2
}
